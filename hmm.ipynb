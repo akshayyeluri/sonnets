{
 "cells": [
  {
   "cell_type": "code",
   "execution_count": null,
   "metadata": {},
   "outputs": [],
   "source": [
    "import os\n",
    "import numpy as np\n",
    "import tqdm\n",
    "from datetime import datetime\n",
    "import pickle\n",
    "np.random.seed(420)\n",
    "\n",
    "import multiprocessing\n",
    "n_cores = multiprocessing.cpu_count()\n",
    "print(f\"num cores: {n_cores}\")\n",
    "from multiprocessing import Pool\n",
    "from functools import partial\n",
    "\n",
    "from HMM import unsupervised_HMM, from_hmm\n",
    "from HMM_helper import (\n",
    "    parse_seqs,\n",
    "    parse_text,\n",
    "    update_syll_map,\n",
    "    sample_sentence,\n",
    "    visualize_sparsities,\n",
    "    rhyme_dict_gen\n",
    ")"
   ]
  },
  {
   "cell_type": "markdown",
   "metadata": {},
   "source": [
    "# Preprocessing"
   ]
  },
  {
   "cell_type": "code",
   "execution_count": null,
   "metadata": {},
   "outputs": [],
   "source": [
    "with open(os.path.join(os.getcwd(), 'data/shakespeare.txt'), 'r') as f:\n",
    "    text = f.read()\n",
    "\n",
    "with open(os.path.join(os.getcwd(), 'data/Syllable_dictionary.txt'), 'r') as f:\n",
    "    syll_map0 = {}\n",
    "    for i, line in enumerate(f):\n",
    "        line = line.strip().split()\n",
    "        word = line[0] \n",
    "        # Add 10 to denote end of line syll_count\n",
    "        sylls = np.array([int(s.replace('E', '1')) for s in line[1:]])\n",
    "        assert(word not in syll_map0)\n",
    "        syll_map0[word] = sylls"
   ]
  },
  {
   "cell_type": "markdown",
   "metadata": {},
   "source": [
    "## Get maps and other relevant preprocessing data"
   ]
  },
  {
   "cell_type": "code",
   "execution_count": 3,
   "metadata": {},
   "outputs": [],
   "source": [
    "by = 'line'\n",
    "seqs = parse_text(text, by=by)\n",
    "obs, obs_map = parse_seqs(seqs)\n",
    "syll_map = update_syll_map(syll_map0, obs_map)\n",
    "rhyme_d = rhyme_dict_gen(text, connected=False, with_words=False)"
   ]
  },
  {
   "cell_type": "markdown",
   "metadata": {},
   "source": [
    "## Train a list of hmms, for each hidden state amount in latents"
   ]
  },
  {
   "cell_type": "code",
   "execution_count": 4,
   "metadata": {},
   "outputs": [],
   "source": [
    "#pool = Pool(n_cores)\n",
    "#\n",
    "#map_func = partial(unsupervised_HMM, X=obs, N_iters=100, verbose=False)\n",
    "#\n",
    "#latents = [2, 4, 8, 16, 24, 32]\n",
    "#hmms = list(tqdm.tqdm(pool.imap(map_func, latents), total=len(latents), desc='curr_hmm'))\n",
    "#\n",
    "#fName = f\"by_{by}_hmm_list.pkl\"\n",
    "#with open(fName, 'wb') as f:\n",
    "#    pickle.dump((hmms, latents), f)"
   ]
  },
  {
   "cell_type": "code",
   "execution_count": 5,
   "metadata": {},
   "outputs": [],
   "source": [
    "fName = f\"by_{by}_hmm_list.pkl\"\n",
    "with open(fName, 'rb') as f:\n",
    "    hmms, latents = pickle.load(f)\n",
    "\n",
    "for hmm, l in zip(hmms, latents):\n",
    "    shmm = from_hmm(hmm, obs_map, syll_map, rhyme_d)\n",
    "    with open(f\"by_{by}_sonnet_list.txt\", \"a\") as f:\n",
    "        print(f\"hidden_states = {l}\", file=f)\n",
    "        print(\"-\" * 40, file=f)\n",
    "        print(shmm.generate_sonnet(do_syll=True, do_rhyme=True), file=f)\n",
    "        print(\"\\n\" * 2, file=f)"
   ]
  },
  {
   "cell_type": "markdown",
   "metadata": {},
   "source": [
    "## Train single HMM"
   ]
  },
  {
   "cell_type": "code",
   "execution_count": 6,
   "metadata": {},
   "outputs": [
    {
     "name": "stderr",
     "output_type": "stream",
     "text": [
      "100%|██████████| 100/100 [04:56<00:00,  2.97s/it]\n"
     ]
    }
   ],
   "source": [
    "hmm = unsupervised_HMM(10, obs, 100, verbose=True)\n",
    "\n",
    "fName = datetime.today().strftime('%y%m%d_%H%M') + f\"_hmm{hmm.L}.pkl\"\n",
    "with open(fName, 'wb') as f:\n",
    "    pickle.dump(hmm, f)"
   ]
  },
  {
   "cell_type": "code",
   "execution_count": 7,
   "metadata": {},
   "outputs": [
    {
     "data": {
      "image/png": "[encoded data removed]",
      "text/plain": [
       "<Figure size 432x288 with 2 Axes>"
      ]
     },
     "metadata": {
      "needs_background": "light"
     },
     "output_type": "display_data"
    },
    {
     "data": {
      "image/png": "[encoded data removed]",
      "text/plain": [
       "<Figure size 432x288 with 2 Axes>"
      ]
     },
     "metadata": {
      "needs_background": "light"
     },
     "output_type": "display_data"
    },
    {
     "name": "stdout",
     "output_type": "stream",
     "text": [
      "Sample Sentence:\n",
      "====================\n",
      "A hope and your whilst then the fool of leave know no to that behind like been love with love's thinking of and of can...\n",
      "\n",
      "\n",
      "\n",
      "Sample Sonet:\n",
      "====================\n",
      "Still touch music me jewel may nor sing,\n",
      "And now see better outward breath all east,\n",
      "Love through verse truth hand seeming feeling wing,\n",
      "Compounds worms me be their and 'i in west,\n",
      "You usest extreme like then i will straight,\n",
      "Of which love mother's to prognosticate,\n",
      "That yet thy could thou a eye something bait,\n",
      "Breathers where thou this are of leases date,\n",
      "O say with thou when can disabled,\n",
      "Be art acknowledge i oblivion near,\n",
      "Your thanks bars each have grace his strumpeted,\n",
      "Confound unrespected supposed her cheer,\n",
      "Shall note beauty well of gluttoning love,\n",
      "Shapes strive wish i self art do wilt were move,\n"
     ]
    }
   ],
   "source": [
    "by = 'sonnet'\n",
    "with open(fName, 'rb') as f:\n",
    "    hmm = pickle.load(f)\n",
    "\n",
    "visualize_sparsities(hmm, O_max_cols=50)\n",
    "print('Sample Sentence:\\n====================')\n",
    "print(sample_sentence(hmm, obs_map, n_words=25))\n",
    "print('\\n' * 2)\n",
    "\n",
    "shmm = from_hmm(hmm, obs_map, syll_map, rhyme_d)\n",
    "print('Sample Sonet:\\n====================')\n",
    "print(shmm.generate_sonnet(do_syll=True, do_rhyme=True))"
   ]
  }
 ],
 "metadata": {
  "kernelspec": {
   "display_name": "neural",
   "language": "python",
   "name": "neural"
  },
  "language_info": {
   "codemirror_mode": {
    "name": "ipython",
    "version": 3
   },
   "file_extension": ".py",
   "mimetype": "text/x-python",
   "name": "python",
   "nbconvert_exporter": "python",
   "pygments_lexer": "ipython3",
   "version": "3.6.7"
  }
 },
 "nbformat": 4,
 "nbformat_minor": 2
}
