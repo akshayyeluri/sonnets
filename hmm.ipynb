{
 "cells": [
  {
   "cell_type": "code",
   "execution_count": 1,
   "metadata": {},
   "outputs": [],
   "source": [
    "import os\n",
    "import numpy as np\n",
    "np.random.seed(420)\n",
    "from IPython.display import HTML\n",
    "\n",
    "from HMM import unsupervised_HMM, from_hmm\n",
    "from HMM_helper import (\n",
    "    parse_seqs,\n",
    "    parse_text,\n",
    "    update_syll_map,\n",
    "    sample_sentence,\n",
    "    visualize_sparsities,\n",
    "    rhyme_dict_gen\n",
    ")"
   ]
  },
  {
   "cell_type": "code",
   "execution_count": 2,
   "metadata": {},
   "outputs": [],
   "source": [
    "with open(os.path.join(os.getcwd(), 'data/shakespeare.txt'), 'r') as f:\n",
    "    text = f.read()\n",
    "\n",
    "with open(os.path.join(os.getcwd(), 'data/Syllable_dictionary.txt'), 'r') as f:\n",
    "    syll_map0 = {}\n",
    "    for i, line in enumerate(f):\n",
    "        line = line.strip().split()\n",
    "        word = line[0] \n",
    "        # Add 10 to denote end of line syll_count\n",
    "        sylls = np.array([int(s.replace('E', '1')) for s in line[1:]])\n",
    "        assert(word not in syll_map0)\n",
    "        syll_map0[word] = sylls"
   ]
  },
  {
   "cell_type": "code",
   "execution_count": 3,
   "metadata": {},
   "outputs": [],
   "source": [
    "seqs = parse_text(text, by='line')\n",
    "obs, obs_map = parse_seqs(seqs)\n",
    "syll_map = update_syll_map(syll_map0, obs_map)\n",
    "rhyme_d = rhyme_dict_gen(text, connected=False, with_words=False)"
   ]
  },
  {
   "cell_type": "code",
   "execution_count": 4,
   "metadata": {},
   "outputs": [
    {
     "name": "stderr",
     "output_type": "stream",
     "text": [
      "100%|██████████| 5/5 [00:16<00:00,  3.22s/it]\n"
     ]
    }
   ],
   "source": [
    "hmm8 = unsupervised_HMM(obs, 10, 5)"
   ]
  },
  {
   "cell_type": "code",
   "execution_count": 5,
   "metadata": {},
   "outputs": [
    {
     "data": {
      "image/png": "[encoded data removed]",
      "text/plain": [
       "<Figure size 432x288 with 2 Axes>"
      ]
     },
     "metadata": {
      "needs_background": "light"
     },
     "output_type": "display_data"
    },
    {
     "data": {
      "image/png": "[encoded data removed]",
      "text/plain": [
       "<Figure size 432x288 with 2 Axes>"
      ]
     },
     "metadata": {
      "needs_background": "light"
     },
     "output_type": "display_data"
    }
   ],
   "source": [
    "visualize_sparsities(hmm8, O_max_cols=50)"
   ]
  },
  {
   "cell_type": "code",
   "execution_count": 6,
   "metadata": {},
   "outputs": [
    {
     "name": "stdout",
     "output_type": "stream",
     "text": [
      "Sample Sentence:\n",
      "====================\n",
      "For the me the weep as now but who desert or who i thou of ere your outward time my then most soul was pierced...\n"
     ]
    }
   ],
   "source": [
    "print('Sample Sentence:\\n====================')\n",
    "print(sample_sentence(hmm8, obs_map, n_words=25))"
   ]
  },
  {
   "cell_type": "code",
   "execution_count": 7,
   "metadata": {},
   "outputs": [
    {
     "name": "stdout",
     "output_type": "stream",
     "text": [
      "Yet himself will doth love thy flatter have,\n",
      "End all thou be my and are to the style,\n",
      "In shun anticipate thee ill his grave,\n",
      "And heir for watchman your sin am compile,\n",
      "Their both art my but and leaves which should on,\n",
      "Prove than this sinful which by a may true,\n",
      "Jewel potions wrong of most eased could gone,\n",
      "Are your my steal sums which think prime but you,\n",
      "By heart crime fell so blot from summer's wrought,\n",
      "Their i a by and love well to with thee,\n",
      "Still thrust thou alone thine or o here thought,\n",
      "I truly confined object vice but thee,\n",
      "Life give to which are is and largess i,\n",
      "Mine of cries on is themselves when then be,\n"
     ]
    }
   ],
   "source": [
    "shmm = from_hmm(hmm8, obs_map, syll_map, rhyme_d)\n",
    "print(shmm.generate_sonnet(do_syll=True, do_rhyme=True))"
   ]
  }
 ],
 "metadata": {
  "kernelspec": {
   "display_name": "neural",
   "language": "python",
   "name": "neural"
  },
  "language_info": {
   "codemirror_mode": {
    "name": "ipython",
    "version": 3
   },
   "file_extension": ".py",
   "mimetype": "text/x-python",
   "name": "python",
   "nbconvert_exporter": "python",
   "pygments_lexer": "ipython3",
   "version": "3.6.7"
  }
 },
 "nbformat": 4,
 "nbformat_minor": 2
}
