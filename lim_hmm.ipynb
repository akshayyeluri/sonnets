{
 "cells": [
  {
   "cell_type": "code",
   "execution_count": 3,
   "metadata": {},
   "outputs": [],
   "source": [
    "import os\n",
    "import numpy as np\n",
    "np.random.seed(420)\n",
    "from IPython.display import HTML\n",
    "from datetime import datetime\n",
    "import pickle\n",
    "\n",
    "from HMM import unsupervised_HMM, from_hmm_lim, Lim_HMM\n",
    "from helper import (\n",
    "    parse_lim,\n",
    "    parse_seqs,\n",
    "    get_syll_map,\n",
    "    rhyme_dict_lim,\n",
    "    sample_sentence,\n",
    "    visualize_sparsities,\n",
    "    rhyme_dict_gen,\n",
    "    obs_map_reverser\n",
    ")"
   ]
  },
  {
   "cell_type": "code",
   "execution_count": 4,
   "metadata": {},
   "outputs": [],
   "source": [
    "with open(os.path.join(os.getcwd(), 'data/limericks.txt'), 'r') as f:\n",
    "    limericks = f.read()\n",
    "\n",
    "l_seqs = parse_lim(limericks, by='line')\n",
    "l_obs, l_obs_map = parse_seqs(l_seqs)\n",
    "m, bad_words = get_syll_map(l_obs_map.keys())\n",
    "m2 = {l_obs_map[w]: np.array(sylls) for w,sylls in m.items()}\n",
    "for word in bad_words:\n",
    "    sylls = len(word) // 3 # Guess the number of sylls as len(word) / 3\n",
    "    m2[l_obs_map[word]] = np.array([sylls])"
   ]
  },
  {
   "cell_type": "code",
   "execution_count": 5,
   "metadata": {},
   "outputs": [
    {
     "name": "stderr",
     "output_type": "stream",
     "text": [
      "100%|██████████| 10/10 [00:48<00:00,  4.81s/it]\n"
     ]
    }
   ],
   "source": [
    "l_syll_map = m2\n",
    "l_rhyme_d = rhyme_dict_lim(limericks, connected=False, with_words=False)\n",
    "l_hmm = unsupervised_HMM(10, l_obs, 10)"
   ]
  },
  {
   "cell_type": "code",
   "execution_count": 6,
   "metadata": {},
   "outputs": [],
   "source": [
    "fName = datetime.today().strftime('%y%m%d_%H%M') + f\"_l_hmm{l_hmm.L}.pkl\"\n",
    "with open(fName, 'wb') as f:\n",
    "    pickle.dump(l_hmm, f)"
   ]
  },
  {
   "cell_type": "code",
   "execution_count": 7,
   "metadata": {},
   "outputs": [],
   "source": [
    "with open(fName, 'rb') as f:\n",
    "    l_hmm_g = pickle.load(f)"
   ]
  },
  {
   "cell_type": "code",
   "execution_count": 8,
   "metadata": {},
   "outputs": [
    {
     "data": {
      "image/png": "[encoded data removed]",
      "text/plain": [
       "<Figure size 432x288 with 2 Axes>"
      ]
     },
     "metadata": {
      "needs_background": "light"
     },
     "output_type": "display_data"
    },
    {
     "data": {
      "image/png": "[encoded data removed]",
      "text/plain": [
       "<Figure size 432x288 with 2 Axes>"
      ]
     },
     "metadata": {
      "needs_background": "light"
     },
     "output_type": "display_data"
    }
   ],
   "source": [
    "visualize_sparsities(l_hmm_g, O_max_cols=50)"
   ]
  },
  {
   "cell_type": "code",
   "execution_count": 9,
   "metadata": {},
   "outputs": [
    {
     "name": "stdout",
     "output_type": "stream",
     "text": [
      "Sample Sentence:\n",
      "====================\n",
      "On of an her -- in am her wife pill it for since the had can too ms a even not friend pudenda so fall...\n"
     ]
    }
   ],
   "source": [
    "print('Sample Sentence:\\n====================')\n",
    "print(sample_sentence(l_hmm_g, l_obs_map, n_words=25))"
   ]
  },
  {
   "cell_type": "code",
   "execution_count": 10,
   "metadata": {
    "scrolled": true
   },
   "outputs": [
    {
     "name": "stdout",
     "output_type": "stream",
     "text": [
      "That's fuck finn shot she off show,\n",
      "A metronome left her row,\n",
      "Pale had once be turd,\n",
      "On girl ain't and heard,\n",
      "A dark a hesheit turned row,\n"
     ]
    }
   ],
   "source": [
    "lhmm = from_hmm_lim(l_hmm_g, l_obs_map, m2, rhyme_dict=l_rhyme_d)\n",
    "print(lhmm.generate_limerick())"
   ]
  }
 ],
 "metadata": {
  "kernelspec": {
   "display_name": "neural",
   "language": "python",
   "name": "neural"
  },
  "language_info": {
   "codemirror_mode": {
    "name": "ipython",
    "version": 3
   },
   "file_extension": ".py",
   "mimetype": "text/x-python",
   "name": "python",
   "nbconvert_exporter": "python",
   "pygments_lexer": "ipython3",
   "version": "3.6.7"
  }
 },
 "nbformat": 4,
 "nbformat_minor": 2
}
