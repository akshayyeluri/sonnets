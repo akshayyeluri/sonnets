{
 "cells": [
  {
   "cell_type": "code",
   "execution_count": 2,
   "metadata": {},
   "outputs": [],
   "source": [
    "import os\n",
    "import numpy as np\n",
    "np.random.seed(420)\n",
    "from IPython.display import HTML\n",
    "from datetime import datetime\n",
    "import pickle\n",
    "\n",
    "from HMM import unsupervised_HMM, from_hmm, HiddenMarkovModel\n",
    "from HMM_helper import (\n",
    "    parse_seqs,\n",
    "    parse_text,\n",
    "    update_syll_map,\n",
    "    sample_sentence,\n",
    "    visualize_sparsities,\n",
    "    rhyme_dict_gen,\n",
    "    obs_map_reverser\n",
    ")\n",
    "import re, string, nltk"
   ]
  },
  {
   "cell_type": "code",
   "execution_count": 3,
   "metadata": {},
   "outputs": [],
   "source": [
    "def parse_lim(text, by = 'line', cap='lower', \\\n",
    "               punc_to_drop=re.sub(r\"[-']\", '', string.punctuation)):\n",
    "    '''\n",
    "    Parse a text into a sequence of either sonnets, stanzas, or lines.\n",
    "    Also handle punctuation and capitalization issues\n",
    "    '''\n",
    "    # Issues: tokenize as words? Maybe should have some bigrams / word pairs, etc?\n",
    "    #         just dropping the weird length sonnets, is there better soln?\n",
    "    \n",
    "    if punc_to_drop:\n",
    "        text = text.translate(str.maketrans('', '', punc_to_drop))\n",
    "    if cap == 'lower':\n",
    "        text = text.lower()\n",
    "        \n",
    "    limericks = text.split('\\n\\n')\n",
    "    # 98 and 125 are NOT 14 line sonnets (15 and 12 resp.)\n",
    "    limericks = [s for s in limericks if len(s.split('\\n')) == 5]\n",
    "    lines = [l.strip() for s in limericks for l in s.split('\\n')]\n",
    "    \n",
    "    if by == 'line':\n",
    "        seqs = lines\n",
    "    elif by == 'limerick':\n",
    "        seqs = [' '.join(lines[i:i+5]) for i in range(0, len(lines), 5)]\n",
    "        \n",
    "    return seqs"
   ]
  },
  {
   "cell_type": "code",
   "execution_count": 4,
   "metadata": {},
   "outputs": [],
   "source": [
    "def from_hmm_lim(hmm, obs_map, syll_map=None, rhyme_dict=None):\n",
    "    '''Make a shakespeare hmm from an hmm '''\n",
    "    lim_hmm = Lim_HMM(hmm.A, hmm.O, obs_map, syll_map, rhyme_dict)        \n",
    "    return lim_hmm\n",
    "\n",
    "\n",
    "class Lim_HMM(HiddenMarkovModel):\n",
    "    '''\n",
    "    Class implementation of Shakespeare Hidden Markov Models.\n",
    "    '''\n",
    "    def __init__(self, A, O, obs_map, syll_map=None, rhyme_dict=None):\n",
    "        '''\n",
    "        Initializes a Shakespeare HMM, inherits from HMMs,\n",
    "        but also store a syll_map and a rhyming pairs dictionary,\n",
    "        override the typical generate emission function with\n",
    "        one that tries to enforce iambic pentameter\n",
    "        '''\n",
    "        super().__init__(A, O)\n",
    "        self.syll = syll_map\n",
    "        self.rhyme = rhyme_dict\n",
    "        self.ind_to_word = obs_map_reverser(obs_map)\n",
    "\n",
    "    def to_word(self, emission):\n",
    "        sentence = ' '.join([self.ind_to_word[i] for i in emission]).capitalize()\n",
    "        return sentence + ','\n",
    "\n",
    "    # p(a | b) propto p(b | a) * p(a), p(a) comes from invariant, p(b | a)\n",
    "    # is just the A matrix at ab.\n",
    "    def gen_line(self, backward=False, seed_state=None,\n",
    "                 syll_count=10, get_states=False, as_word=True):\n",
    "        ''' Get a single line of syll_count syllables '''\n",
    "\n",
    "        A = self.A\n",
    "        if backward:\n",
    "            A = (self.A.T * self.A_start[None, :]); A /= A.sum(axis=1)[:, None]\n",
    "        pi = A[seed_state] if seed_state else self.A_start \n",
    "        emission = []\n",
    "        states = []\n",
    " \n",
    "        states.append(np.random.choice(self.L, p = pi))\n",
    "        remain = syll_count\n",
    "        while remain != 0:\n",
    "            curr_state = states[-1]\n",
    "            pred = lambda l: min(l) <= remain\n",
    "            inds = np.array([i for i in range(self.D) if pred(self.syll[i])])\n",
    "            p = self.O[curr_state, inds]; p /= np.sum(p)\n",
    "            ind = np.random.choice(inds, p = p)\n",
    "            emission.append(ind)\n",
    "            l = self.syll[ind]\n",
    "            count_decrement = l.min() if l.min() <= remain else remain\n",
    "            remain -= count_decrement\n",
    "            states.append(np.random.choice(self.L, p = A[curr_state]))\n",
    "        states.pop()\n",
    "        if backward:\n",
    "            emission = emission[::-1]; states = states[::-1]\n",
    " \n",
    "        emission = emission if not as_word else self.to_word(emission)\n",
    "        return (emission, states) if get_states else emission\n",
    "    \n",
    "\n",
    "    def gen_rhyme_n(self, n, syllables):                                                       \n",
    "        '''                                                                    \n",
    "        Generate a pair of iambic pentameter lines that rhyme                  \n",
    "        '''                                                                    \n",
    "        # Get random line ending with word that rhymes with stuff\n",
    "        seed1 = np.random.choice(list(self.rhyme.keys()))\n",
    "        syll1 = self.syll[seed1].min()\n",
    "        seed_state1 = np.argmax(self.O[:, seed1] * self.A_start)\n",
    "        line1 = self.gen_line(syll_count=syllables-syll1, backward=True, \n",
    "                              seed_state=seed_state1, as_word=False)\n",
    "        line1.append(seed1)\n",
    "        lines = [self.to_word(line1)]\n",
    "        # Get second line using word rhyming with 1st line\n",
    "        for i in range(n - 1):\n",
    "            seed2 = np.random.choice(self.rhyme[seed1])\n",
    "            syll2 = self.syll[seed2].min()\n",
    "            seed_state2 = np.argmax(self.O[:, seed2] * self.A_start)\n",
    "            line2 = self.gen_line(syll_count=syllables-syll2, backward=True, \n",
    "                                  seed_state=seed_state2, as_word=False)\n",
    "            line2.append(seed2)\n",
    "            lines.append(self.to_word(line2))\n",
    "        return lines\n",
    "                                                                               \n",
    "    def generate_limerick(self):\n",
    "        ''' Get a sonnet with n_lines lines '''\n",
    "        main = self.gen_rhyme_n(3, 7)\n",
    "        coup = self.gen_rhyme_n(2, 5)\n",
    "        limerick = [main[0], main[1], coup[0], coup[1], main[2]]\n",
    "        return '\\n'.join(limerick)"
   ]
  },
  {
   "cell_type": "code",
   "execution_count": 5,
   "metadata": {},
   "outputs": [],
   "source": [
    "def rhyme_dict_lim(text, sonnet_l=14, abab_pattern_l=12,\n",
    "                    connected=False, with_words = False): \n",
    "    '''\n",
    "    Generate a rhyming dictionary.\n",
    "    '''\n",
    "    lines = parse_lim(text, by='line')                                         \n",
    "    seqs, obs_map = parse_seqs(lines)\n",
    "    ind_to_word = obs_map_reverser(obs_map)\n",
    "                                                                                \n",
    "    main = [seqs[i+offset][-1] for i in range(0, len(seqs), 5)               \n",
    "                                for offset in [0, 1, 4]]            \n",
    "    coup = [seqs[i+offset][-1] for i in range(0, len(seqs), 5)               \n",
    "                                for offset in [2, 3]]\n",
    "    \n",
    "    pair_ends = list(np.ravel([[(a,b),(b,c),(c,a)] for (a,b,c) in np.array(main).reshape(-1, 3)]))\n",
    "    pair_ends += coup                               \n",
    "    pairs = list(zip(pair_ends[::2], pair_ends[1::2]))                          \n",
    "                                                                                \n",
    "    if connected:\n",
    "        eq_classes = []\n",
    "        for (w1, w2) in pairs:\n",
    "            already_added = False\n",
    "            for c in eq_classes:\n",
    "                if w1 in c or w2 in c:\n",
    "                    c.add(w1); c.add(w2)\n",
    "                    already_added = True\n",
    "                    break\n",
    "            if not already_added:\n",
    "                c = set(); c.add(w1); c.add(w2)\n",
    "                eq_classes.append(c)\n",
    "        d = {w:np.array(list(c)) for c in eq_classes for w in c}\n",
    "        \n",
    "    else:\n",
    "        # Only use rhyming pairings shakespeare specified\n",
    "        d = {}                                                                      \n",
    "        for (w1, w2) in pairs:                                                      \n",
    "            if w1 not in d:                                                         \n",
    "                d[w1] = []                                                          \n",
    "            if w2 not in d:                                                         \n",
    "                d[w2] = []\n",
    "            d[w1] += [w2] if w2 not in d[w1] else [] \n",
    "            d[w2] += [w1] if w1 not in d[w2] else []                             \n",
    "    \n",
    "        d = {k:np.unique(v) for k, v in d.items()}\n",
    "    d_with_words = {ind_to_word[w1] : np.array([ind_to_word[w2] for w2 in v])    \n",
    "                                      for w1, v in d.items()}                                                                       \n",
    "    return d_with_words if with_words else d"
   ]
  },
  {
   "cell_type": "code",
   "execution_count": 6,
   "metadata": {},
   "outputs": [],
   "source": [
    "with open(os.path.join(os.getcwd(), 'data/shakespeare.txt'), 'r') as f:\n",
    "    text = f.read()\n",
    "\n",
    "with open(os.path.join(os.getcwd(), 'data/Syllable_dictionary.txt'), 'r') as f:\n",
    "    syll_map0 = {}\n",
    "    for i, line in enumerate(f):\n",
    "        line = line.strip().split()\n",
    "        word = line[0] \n",
    "        # Add 10 to denote end of line syll_count\n",
    "        sylls = np.array([int(s.replace('E', '1')) for s in line[1:]])\n",
    "        assert(word not in syll_map0)\n",
    "        syll_map0[word] = sylls\n",
    "\n",
    "with open(os.path.join(os.getcwd(), 'data/limericks.txt'), 'r') as f:\n",
    "    limericks = f.read()"
   ]
  },
  {
   "cell_type": "code",
   "execution_count": 7,
   "metadata": {},
   "outputs": [],
   "source": [
    "def get_syll_map(words):\n",
    "    arpabet = nltk.corpus.cmudict.dict()\n",
    "    counter = lambda l: sum([any([(d in w) for d in string.digits]) for w in l])\n",
    "    mapper = {w : list(set(counter(pron) for pron in arpabet[w])) \\\n",
    "                  for w in words if w in arpabet}\n",
    "    bad_words = [w for w in words if w not in arpabet]\n",
    "    return mapper, bad_words\n",
    "\n",
    "l_seqs = parse_lim(limericks, by='line')\n",
    "l_obs, l_obs_map = parse_seqs(l_seqs)\n",
    "m, bad_words = get_syll_map(l_obs_map.keys())\n",
    "m2 = {l_obs_map[w]: np.array(sylls) for w,sylls in m.items()}\n",
    "for word in bad_words:\n",
    "    sylls = len(word) // 3\n",
    "    m2[l_obs_map[word]] = np.array([sylls])"
   ]
  },
  {
   "cell_type": "code",
   "execution_count": 8,
   "metadata": {},
   "outputs": [
    {
     "name": "stderr",
     "output_type": "stream",
     "text": [
      "100%|██████████████████████████████████████████████████████████████████████████████████| 10/10 [01:34<00:00,  9.47s/it]\n"
     ]
    }
   ],
   "source": [
    "l_syll_map = m2\n",
    "l_rhyme_d = rhyme_dict_lim(limericks, connected=False, with_words=False)\n",
    "l_hmm8 = unsupervised_HMM(10, l_obs, 10)"
   ]
  },
  {
   "cell_type": "code",
   "execution_count": 9,
   "metadata": {},
   "outputs": [
    {
     "ename": "NameError",
     "evalue": "name 'lhmm' is not defined",
     "output_type": "error",
     "traceback": [
      "\u001b[1;31m---------------------------------------------------------------------------\u001b[0m",
      "\u001b[1;31mNameError\u001b[0m                                 Traceback (most recent call last)",
      "\u001b[1;32m<ipython-input-9-79747bbb09b7>\u001b[0m in \u001b[0;36m<module>\u001b[1;34m\u001b[0m\n\u001b[1;32m----> 1\u001b[1;33m \u001b[0mfName\u001b[0m \u001b[1;33m=\u001b[0m \u001b[0mdatetime\u001b[0m\u001b[1;33m.\u001b[0m\u001b[0mtoday\u001b[0m\u001b[1;33m(\u001b[0m\u001b[1;33m)\u001b[0m\u001b[1;33m.\u001b[0m\u001b[0mstrftime\u001b[0m\u001b[1;33m(\u001b[0m\u001b[1;34m'%y%m%d_%H%M'\u001b[0m\u001b[1;33m)\u001b[0m \u001b[1;33m+\u001b[0m \u001b[1;34mf\"_l_hmm{lhmm.L}.pkl\"\u001b[0m\u001b[1;33m\u001b[0m\u001b[0m\n\u001b[0m\u001b[0;32m      2\u001b[0m \u001b[1;32mwith\u001b[0m \u001b[0mopen\u001b[0m\u001b[1;33m(\u001b[0m\u001b[0mfName\u001b[0m\u001b[1;33m,\u001b[0m \u001b[1;34m'wb'\u001b[0m\u001b[1;33m)\u001b[0m \u001b[1;32mas\u001b[0m \u001b[0mf\u001b[0m\u001b[1;33m:\u001b[0m\u001b[1;33m\u001b[0m\u001b[0m\n\u001b[0;32m      3\u001b[0m     \u001b[0mpickle\u001b[0m\u001b[1;33m.\u001b[0m\u001b[0mdump\u001b[0m\u001b[1;33m(\u001b[0m\u001b[0ml_hmm8\u001b[0m\u001b[1;33m,\u001b[0m \u001b[0mf\u001b[0m\u001b[1;33m)\u001b[0m\u001b[1;33m\u001b[0m\u001b[0m\n",
      "\u001b[1;31mNameError\u001b[0m: name 'lhmm' is not defined"
     ]
    }
   ],
   "source": [
    "fName = datetime.today().strftime('%y%m%d_%H%M') + f\"_l_hmm{lhmm.L}.pkl\"\n",
    "with open(fName, 'wb') as f:\n",
    "    pickle.dump(l_hmm8, f)"
   ]
  },
  {
   "cell_type": "code",
   "execution_count": 12,
   "metadata": {},
   "outputs": [],
   "source": [
    "unsupervised_HMM?"
   ]
  },
  {
   "cell_type": "code",
   "execution_count": 123,
   "metadata": {},
   "outputs": [],
   "source": [
    "with open('200312_2250_l_hmm10.pkl', 'rb') as f:\n",
    "    l_hmm_g = pickle.load(f)"
   ]
  },
  {
   "cell_type": "code",
   "execution_count": 31,
   "metadata": {},
   "outputs": [
    {
     "data": {
      "image/png": "[encoded data removed]",
      "text/plain": [
       "<Figure size 432x288 with 2 Axes>"
      ]
     },
     "metadata": {
      "needs_background": "light"
     },
     "output_type": "display_data"
    },
    {
     "data": {
      "image/png": "[encoded data removed]",
      "text/plain": [
       "<Figure size 432x288 with 2 Axes>"
      ]
     },
     "metadata": {
      "needs_background": "light"
     },
     "output_type": "display_data"
    }
   ],
   "source": [
    "visualize_sparsities(l_hmm8, O_max_cols=50)"
   ]
  },
  {
   "cell_type": "code",
   "execution_count": 11,
   "metadata": {},
   "outputs": [
    {
     "name": "stdout",
     "output_type": "stream",
     "text": [
      "Sample Sentence:\n",
      "====================\n",
      "On of an her -- in am her wife pill it for since the had can too ms a even not friend pudenda so fall...\n"
     ]
    }
   ],
   "source": [
    "print('Sample Sentence:\\n====================')\n",
    "print(sample_sentence(l_hmm8, l_obs_map, n_words=25))"
   ]
  },
  {
   "cell_type": "code",
   "execution_count": 15,
   "metadata": {
    "scrolled": true
   },
   "outputs": [
    {
     "name": "stdout",
     "output_type": "stream",
     "text": [
      "Young fellow our found she inich,\n",
      "Couch wanted miners greenwich,\n",
      "Of you was moxie,\n",
      "Steam all biloxi,\n",
      "Have said column young spinach,\n"
     ]
    }
   ],
   "source": [
    "lhmm = from_hmm_lim(l_hmm8, l_obs_map, m2, rhyme_dict=l_rhyme_d)\n",
    "print(lhmm.generate_limerick())"
   ]
  },
  {
   "cell_type": "code",
   "execution_count": null,
   "metadata": {},
   "outputs": [],
   "source": []
  }
 ],
 "metadata": {
  "kernelspec": {
   "display_name": "Python 3",
   "language": "python",
   "name": "python3"
  },
  "language_info": {
   "codemirror_mode": {
    "name": "ipython",
    "version": 3
   },
   "file_extension": ".py",
   "mimetype": "text/x-python",
   "name": "python",
   "nbconvert_exporter": "python",
   "pygments_lexer": "ipython3",
   "version": "3.6.5"
  }
 },
 "nbformat": 4,
 "nbformat_minor": 2
}
